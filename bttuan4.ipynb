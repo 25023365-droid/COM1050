{
  "cells": [
    {
      "cell_type": "markdown",
      "metadata": {
        "id": "u_BcdnddjiKy"
      },
      "source": [
        "W3A2"
      ]
    },
    {
      "cell_type": "code",
      "execution_count": 1,
      "metadata": {
        "colab": {
          "base_uri": "https://localhost:8080/"
        },
        "id": "PCGYLfCzjgPD",
        "outputId": "569d4d1b-4ad8-4e0f-d63c-5745bdc34b88"
      },
      "outputs": [
        {
          "name": "stdout",
          "output_type": "stream",
          "text": [
            "Nhập số a: 2\n",
            "Nhập số b: 4\n",
            "Sau khi hoán đổi : a=  4 b= 2\n"
          ]
        }
      ],
      "source": [
        "a = int(input(\"Nhập số a: \"))\n",
        "b = int(input(\"Nhập số b: \"))\n",
        "a=a^b\n",
        "b=a^b\n",
        "a=a^b\n",
        "print(\"Sau khi hoán đổi : a= \", a , \"b=\" , b )\n"
      ]
    },
    {
      "cell_type": "markdown",
      "metadata": {
        "id": "a36tCzF_kXe9"
      },
      "source": [
        "W3A3"
      ]
    },
    {
      "cell_type": "code",
      "execution_count": 4,
      "metadata": {
        "colab": {
          "base_uri": "https://localhost:8080/"
        },
        "id": "5t43qGZqkZA8",
        "outputId": "ab1b93b5-f26e-4c41-8e77-f1ac0535078c"
      },
      "outputs": [
        {
          "name": "stdout",
          "output_type": "stream",
          "text": [
            "Nhập số n: -4\n",
            "n không là lũy thừa của 2\n"
          ]
        }
      ],
      "source": [
        "n = int(input(\"Nhập số n: \"))\n",
        "if n>0 and (n & (n-1)) == 0:\n",
        "  print(\"n là lũy thừa của 2\")\n",
        "else:\n",
        "  print(\"n không là lũy thừa của 2\")"
      ]
    },
    {
      "cell_type": "markdown",
      "metadata": {
        "id": "tm1vwNeDk14q"
      },
      "source": [
        "W3A4"
      ]
    },
    {
      "cell_type": "code",
      "execution_count": 5,
      "metadata": {
        "colab": {
          "base_uri": "https://localhost:8080/"
        },
        "id": "XVFhSLBgksYs",
        "outputId": "df7a8c6b-22ca-4deb-c515-ba29ba96aca8"
      },
      "outputs": [
        {
          "name": "stdout",
          "output_type": "stream",
          "text": [
            "Nhập số m: 60\n",
            "Nhập số n: 24\n",
            "Kết quả làm tròn xuống: 2\n"
          ]
        }
      ],
      "source": [
        "m=int(input(\"Nhập số m: \"))\n",
        "n=int(input(\"Nhập số n: \"))\n",
        "import math\n",
        "print(\"Kết quả làm tròn xuống:\", math.floor(m/n))"
      ]
    },
    {
      "cell_type": "markdown",
      "metadata": {
        "id": "ztLaHmHVlLnJ"
      },
      "source": [
        "W3A5"
      ]
    },
    {
      "cell_type": "code",
      "execution_count": 6,
      "metadata": {
        "colab": {
          "base_uri": "https://localhost:8080/"
        },
        "id": "8PqZyn6XlGHf",
        "outputId": "2d15aec8-d25b-435e-b920-99f9e92bc099"
      },
      "outputs": [
        {
          "name": "stdout",
          "output_type": "stream",
          "text": [
            "Nhập số m: 50\n",
            "Nhập số n: 13\n",
            "Kết quả làm tròn lên: 4\n"
          ]
        }
      ],
      "source": [
        "m=int(input(\"Nhập số m: \"))\n",
        "n=int(input(\"Nhập số n: \"))\n",
        "import math\n",
        "print(\"Kết quả làm tròn lên:\", math.ceil(m/n))"
      ]
    },
    {
      "cell_type": "markdown",
      "metadata": {
        "id": "trNtHGe8lWp5"
      },
      "source": [
        "W3A6"
      ]
    },
    {
      "cell_type": "code",
      "execution_count": 10,
      "metadata": {
        "colab": {
          "base_uri": "https://localhost:8080/"
        },
        "id": "vvPtzvrElSz1",
        "outputId": "7c6e80aa-0906-4312-905c-0236c4fa9308"
      },
      "outputs": [
        {
          "name": "stdout",
          "output_type": "stream",
          "text": [
            "Nhập số x:89\n",
            "Odd\n"
          ]
        }
      ],
      "source": [
        "x=int(input(\"Nhập số x:\"))\n",
        "if x%2==0:\n",
        "  print(\"Even\")\n",
        "else:\n",
        "  print(\"Odd\")"
      ]
    },
    {
      "cell_type": "markdown",
      "metadata": {
        "id": "6uMqJfE_lmfQ"
      },
      "source": [
        "W3A7"
      ]
    },
    {
      "cell_type": "code",
      "execution_count": 12,
      "metadata": {
        "colab": {
          "base_uri": "https://localhost:8080/"
        },
        "id": "rFVf5zrdllXE",
        "outputId": "b3b810a5-6c7a-4f42-82f9-57086eb5958b"
      },
      "outputs": [
        {
          "name": "stdout",
          "output_type": "stream",
          "text": [
            "Nhập số a:-7\n",
            "Nhập số b:-9\n",
            "Yes\n"
          ]
        }
      ],
      "source": [
        "a=int(input(\"Nhập số a:\"))\n",
        "b=int(input(\"Nhập số b:\"))\n",
        "if a<0 and b<0:\n",
        "  print(\"Yes\")\n",
        "else:\n",
        "  print(\"No\")"
      ]
    },
    {
      "cell_type": "markdown",
      "metadata": {
        "id": "HIAb9OmXmNR1"
      },
      "source": [
        "W3A8"
      ]
    },
    {
      "cell_type": "code",
      "execution_count": 14,
      "metadata": {
        "colab": {
          "base_uri": "https://localhost:8080/"
        },
        "id": "zFtdyJenmEzK",
        "outputId": "2bfed0de-bb55-41ba-b332-99ba5c091100"
      },
      "outputs": [
        {
          "name": "stdout",
          "output_type": "stream",
          "text": [
            "Nhập chuỗi a: Một con vịt\n",
            "Nhập chuỗi b: Xòe ra cánh cánh\n",
            "False\n"
          ]
        }
      ],
      "source": [
        "a=input(\"Nhập chuỗi a: \")\n",
        "b=input(\"Nhập chuỗi b: \")\n",
        "if len(a) > len(b):\n",
        "  print(\"True\")\n",
        "else:\n",
        "  print(\"False\")"
      ]
    },
    {
      "cell_type": "markdown",
      "metadata": {
        "id": "XNe5QmdhmuQK"
      },
      "source": [
        "W3A9"
      ]
    },
    {
      "cell_type": "code",
      "execution_count": 16,
      "metadata": {
        "colab": {
          "base_uri": "https://localhost:8080/"
        },
        "id": "J4hs25nimeb8",
        "outputId": "452bfba3-a597-49c9-c323-f524f6ba9f9f"
      },
      "outputs": [
        {
          "name": "stdout",
          "output_type": "stream",
          "text": [
            "Nhập cạnh a:5\n",
            "Nhập cạnh b:7\n",
            "Nhập cạnh c:11\n",
            "Yes\n"
          ]
        }
      ],
      "source": [
        "a=int(input(\"Nhập cạnh a:\"))\n",
        "b=int(input(\"Nhập cạnh b:\"))\n",
        "c=int(input(\"Nhập cạnh c:\"))\n",
        "if a+b>c and a+c>b and b+c>a:\n",
        "  print(\"Yes\")\n",
        "else:\n",
        "  print(\"No\")"
      ]
    },
    {
      "cell_type": "code",
      "execution_count": null,
      "metadata": {
        "id": "YzQMgNjCnKVc"
      },
      "outputs": [],
      "source": [
        "W3A10"
      ]
    },
    {
      "cell_type": "code",
      "execution_count": 22,
      "metadata": {
        "colab": {
          "base_uri": "https://localhost:8080/"
        },
        "id": "aDtbJrf9nGqf",
        "outputId": "f169863d-0dfd-4e59-abbc-7df2ef2195cd"
      },
      "outputs": [
        {
          "name": "stdout",
          "output_type": "stream",
          "text": [
            "Nhập số thứ 1:6\n",
            "Nhập số thứ 2:9\n",
            "Nhập số thứ 3:33\n",
            "Nhập số thứ 4:900\n",
            "Số lớn nhất trong 4 số là : 900\n"
          ]
        }
      ],
      "source": [
        "num = [int(input(f\"Nhập số thứ {i+1}:\")) for i in range(4)]\n",
        "print(\"Số lớn nhất trong 4 số là :\" , max(num))"
      ]
    },
    {
      "cell_type": "markdown",
      "metadata": {
        "id": "Rw6ZEETkn7UJ"
      },
      "source": [
        "W3A11"
      ]
    },
    {
      "cell_type": "code",
      "execution_count": 26,
      "metadata": {
        "colab": {
          "base_uri": "https://localhost:8080/"
        },
        "id": "rdeSbL7nn8zA",
        "outputId": "d5cd8d8b-c205-4d3d-a530-0b6d34d3bc20"
      },
      "outputs": [
        {
          "name": "stdout",
          "output_type": "stream",
          "text": [
            "Nhập cạnh a:6\n",
            "Nhập cạnh b:7\n",
            "Nhập cạnh c:8\n",
            "Tam giác thường\n"
          ]
        }
      ],
      "source": [
        "a=int(input(\"Nhập cạnh a:\"))\n",
        "b=int(input(\"Nhập cạnh b:\"))\n",
        "c=int(input(\"Nhập cạnh c:\"))\n",
        "if a+b<c and b+c<a and a+c<b:\n",
        "  print(\"Không phải tam giác\")\n",
        "else:\n",
        "  if a==b and b==c:\n",
        "    print(\"Tam giác đều\")\n",
        "  elif a==b or b==c or a==c:\n",
        "    print(\"Tam giác cân\")\n",
        "  else:\n",
        "    print(\"Tam giác thường\")"
      ]
    },
    {
      "cell_type": "markdown",
      "metadata": {
        "id": "EfwFcJ3SpLAK"
      },
      "source": [
        "W3A12"
      ]
    },
    {
      "cell_type": "code",
      "execution_count": null,
      "metadata": {
        "id": "_6qjYud7nilb"
      },
      "outputs": [],
      "source": [
        "year = int(input(\"Nhập năm:\"))\n",
        "if (year % 4 == 0 and year % 100 != 0) or (year % 400 == 0):\n",
        "  print(\"Yes\")\n",
        "else:\n",
        "  print(\"No\")"
      ]
    },
    {
      "cell_type": "markdown",
      "metadata": {
        "id": "VoXOnNXtqgLP"
      },
      "source": [
        "W3A14"
      ]
    },
    {
      "cell_type": "code",
      "execution_count": 32,
      "metadata": {
        "colab": {
          "base_uri": "https://localhost:8080/"
        },
        "id": "Viw6jn_EqhSu",
        "outputId": "e8177bee-eaaa-4a55-aad2-7d0ebbe0853b"
      },
      "outputs": [
        {
          "name": "stdout",
          "output_type": "stream",
          "text": [
            "Nhập a:5\n",
            "Nhập b:6\n",
            "Nghiệm ủa phương trình là x= -1.2\n"
          ]
        }
      ],
      "source": [
        "a = float(input(\"Nhập a:\"))\n",
        "b = float(input(\"Nhập b:\"))\n",
        "if a==0:\n",
        "  if b==0:\n",
        "   print(\"Vô số nghiệm\")\n",
        "  else:\n",
        "    print(\"Vô nghiệm\")\n",
        "else:\n",
        "  x=-b/a\n",
        "  print(\"Nghiệm ủa phương trình là x=\", round(x,2))"
      ]
    },
    {
      "cell_type": "markdown",
      "metadata": {
        "id": "MngaN-napiUs"
      },
      "source": [
        "W3A15"
      ]
    },
    {
      "cell_type": "code",
      "execution_count": 29,
      "metadata": {
        "colab": {
          "base_uri": "https://localhost:8080/"
        },
        "id": "UBMICW4Zpqbb",
        "outputId": "e52d6cdb-9255-4635-ea09-a44a80d42a7a"
      },
      "outputs": [
        {
          "name": "stdout",
          "output_type": "stream",
          "text": [
            "Điểm học lực:8.4\n",
            "Giỏi\n"
          ]
        }
      ],
      "source": [
        "a =float(input(\"Điểm học lực:\"))\n",
        "if a>= 8.0:\n",
        "  print(\"Giỏi\")\n",
        "elif a>= 6.5:\n",
        "  print(\"Khá\")\n",
        "elif a>= 5.0:\n",
        "  print(\"Trung bình\")\n",
        "else:\n",
        "  print(\"Yếu\")"
      ]
    },
    {
      "cell_type": "markdown",
      "metadata": {
        "id": "BhD0fT4xrMja"
      },
      "source": [
        "W3A16"
      ]
    },
    {
      "cell_type": "code",
      "execution_count": 33,
      "metadata": {
        "colab": {
          "base_uri": "https://localhost:8080/"
        },
        "id": "yqau-wL1qCaY",
        "outputId": "1db8a49f-80ef-45f3-f35e-a8ffd3c29c80"
      },
      "outputs": [
        {
          "name": "stdout",
          "output_type": "stream",
          "text": [
            "Nhập số thực x: 6.465\n",
            "Làm tròn lên : 7\n",
            "Làm tròn xuống : 6\n",
            "Làm tròn gần nhất  6\n"
          ]
        }
      ],
      "source": [
        "x=float(input(\"Nhập số thực x: \"))\n",
        "import math\n",
        "print(\"Làm tròn lên :\" , math.ceil(x))\n",
        "print(\"Làm tròn xuống :\" , math.floor(x))\n",
        "print(\"Làm tròn gần nhất \" , round(x))"
      ]
    },
    {
      "cell_type": "markdown",
      "metadata": {
        "id": "zBGwSSC3tHlH"
      },
      "source": [
        "W3A17"
      ]
    },
    {
      "cell_type": "code",
      "execution_count": 38,
      "metadata": {
        "colab": {
          "base_uri": "https://localhost:8080/"
        },
        "id": "yliKqgZ8tDiD",
        "outputId": "2978b878-e7f8-42ce-82c7-8b53e7c9a706"
      },
      "outputs": [
        {
          "name": "stdout",
          "output_type": "stream",
          "text": [
            "Nhập số a:2\n",
            "Nhập số b:4\n",
            "Nhập số c:8\n",
            "Nhập số d:16\n",
            "Đây là cấp số nhân với công bội q= 2\n"
          ]
        }
      ],
      "source": [
        "a=int(input(\"Nhập số a:\"))\n",
        "b=int(input(\"Nhập số b:\"))\n",
        "c=int(input(\"Nhập số c:\"))\n",
        "d=int(input(\"Nhập số d:\"))\n",
        "if b%a == 0 and c%b == 0 and d%c == 0:\n",
        "  q1 = b//a\n",
        "  q2 = c//b\n",
        "  q3 = d//c\n",
        "  if q1 == q2 == q3 :\n",
        "    print(\"Đây là cấp số nhân với công bội q=\", q1)\n",
        "  else:\n",
        "    print(\"Đây không phải là cấp số nhân\")\n",
        "else:\n",
        "  print(\"Đây không phải là cấp số nhân\")\n"
      ]
    }
  ],
  "metadata": {
    "colab": {
      "provenance": []
    },
    "kernelspec": {
      "display_name": "Python 3",
      "name": "python3"
    },
    "language_info": {
      "name": "python"
    }
  },
  "nbformat": 4,
  "nbformat_minor": 0
}
