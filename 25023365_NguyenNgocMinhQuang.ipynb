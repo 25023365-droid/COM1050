{
  "cells": [
    {
      "cell_type": "markdown",
      "metadata": {
        "id": "OVbwH_Ze5EB4"
      },
      "source": [
        "btap1"
      ]
    },
    {
      "cell_type": "code",
      "execution_count": null,
      "metadata": {
        "colab": {
          "base_uri": "https://localhost:8080/"
        },
        "id": "a_AVxjrG0fcr",
        "outputId": "f8973df6-0128-4954-ccf1-c7b4c5f1dc9f"
      },
      "outputs": [
        {
          "name": "stdout",
          "output_type": "stream",
          "text": [
            "Điểm trung bình :  5.25\n",
            "Kém\n"
          ]
        }
      ],
      "source": [
        "toan=float(input(\"Điểm toán:\"))\n",
        "ly=float(input(\"Điểm lý:\"))\n",
        "hoa=float(input(\"Điểm hóa:\"))\n",
        "anh=float(input(\"Điểm anh:\"))\n",
        "tmp= (toan+ly+hoa+anh)/4\n",
        "print(\"Điểm trung bình : \" , (round(tmp,2)))\n",
        "if toan < 4.0 or ly < 4.0 or hoa < 4.0 or anh < 4.0: print(\"Kém\")\n",
        "elif tmp >= 9.0:\n",
        "  print(\"Xuất săc\")\n",
        "elif tmp >=8.5:\n",
        "  print(\"Giỏi\")\n",
        "elif tmp >= 7.0:\n",
        "  print(\"Khá\")\n",
        "elif tmp >= 5.5:\n",
        "  print(\"Trung bình\")\n"
      ]
    },
    {
      "cell_type": "markdown",
      "metadata": {
        "id": "ZtdR0syK3tkP"
      },
      "source": [
        "Btap 2"
      ]
    },
    {
      "cell_type": "code",
      "execution_count": 8,
      "metadata": {
        "colab": {
          "base_uri": "https://localhost:8080/"
        },
        "id": "cbWj1zS63u5f",
        "outputId": "fc0b1e08-c393-42f0-c636-823b804be8d0"
      },
      "outputs": [
        {
          "name": "stdout",
          "output_type": "stream",
          "text": [
            "Chiều cao:1.7\n",
            "Cân nặng:65\n",
            "BMI = 22.49\n",
            "Bình thường\n"
          ]
        }
      ],
      "source": [
        "a=float(input(\"Chiều cao:\"))\n",
        "b=float(input(\"Cân nặng:\"))\n",
        "sum= b/a**2\n",
        "print(\"BMI =\", round(sum, 2))\n",
        "if sum < 18.5:\n",
        "  print(\"Thiếu cân\")\n",
        "elif sum >= 18.5 and sum < 25:\n",
        "  print(\"Bình thường\")\n",
        "elif sum >=25 and sum < 30 :\n",
        "  print(\"Thừa cân\")\n",
        "elif sum >= 30:\n",
        "  print(\"Béo phì\")\n"
      ]
    },
    {
      "cell_type": "markdown",
      "metadata": {},
      "source": [
        "bai3"
      ]
    },
    {
      "cell_type": "code",
      "execution_count": 2,
      "metadata": {},
      "outputs": [
        {
          "name": "stdout",
          "output_type": "stream",
          "text": [
            "\n",
            "Mặt hàng 1:\n",
            "\n",
            "Mặt hàng 2:\n",
            "Tổng tiền khi chưa giảm là: 37.0\n",
            "Không giảm giá\n",
            "Tổng tiền sau : 37.0\n"
          ]
        }
      ],
      "source": [
        "a=int(input(\"Số lượng mặt hàng:\"))\n",
        "mat_hang=[]\n",
        "for i in range(a):\n",
        "    print(f\"\\nMặt hàng {i+1}:\")\n",
        "    ten=input(\"Tên mặt hàng:\")\n",
        "    so_luong=int(input(\"Số lượng:\"))\n",
        "    gia=float(input(\"Giá:\"))\n",
        "    thanh_tien = so_luong*gia\n",
        "    mat_hang.append((ten,so_luong,gia,thanh_tien))\n",
        "tong = sum(item[3] for item in mat_hang)\n",
        "print(\"Tổng tiền khi chưa giảm là:\", round(tong, 2))\n",
        "if tong >=100:\n",
        "    print(\"Giảm 10%\")\n",
        "    giam=tong*0.1\n",
        "    tong-=giam\n",
        "    print(\"Tổng tiền sau khi giảm giá 10% là:\", round(tong,2))\n",
        "elif tong >=50:\n",
        "    print(\"Giảm 5%\")\n",
        "    giam=tong*0.05\n",
        "    tong-=giam\n",
        "    print(\"Tổng tiền sau khi giảm giá 5% là:\", round(tong,2))\n",
        "else:\n",
        "    print(\"Không giảm giá\")\n",
        "    giam=0\n",
        "    tong-=giam\n",
        "    print(\"Tổng tiền sau :\" , round(tong,2))\n"
      ]
    }
  ],
  "metadata": {
    "colab": {
      "provenance": []
    },
    "kernelspec": {
      "display_name": "Python 3",
      "name": "python3"
    },
    "language_info": {
      "codemirror_mode": {
        "name": "ipython",
        "version": 3
      },
      "file_extension": ".py",
      "mimetype": "text/x-python",
      "name": "python",
      "nbconvert_exporter": "python",
      "pygments_lexer": "ipython3",
      "version": "3.13.7"
    }
  },
  "nbformat": 4,
  "nbformat_minor": 0
}
